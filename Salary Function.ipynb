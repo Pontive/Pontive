{
 "cells": [
  {
   "cell_type": "code",
   "execution_count": 8,
   "metadata": {},
   "outputs": [
    {
     "name": "stderr",
     "output_type": "stream",
     "text": [
      "C:\\Users\\YD\\AppData\\Local\\Temp\\ipykernel_12096\\2603513322.py:4: DtypeWarning: Columns (2,3,4,5) have mixed types. Specify dtype option on import or set low_memory=False.\n",
      "  data = pd.read_csv(r'G:\\My Drive\\PERSONAL\\My stuff\\NXU\\Python and R\\Total.csv')\n"
     ]
    },
    {
     "data": {
      "text/html": [
       "<div>\n",
       "<style scoped>\n",
       "    .dataframe tbody tr th:only-of-type {\n",
       "        vertical-align: middle;\n",
       "    }\n",
       "\n",
       "    .dataframe tbody tr th {\n",
       "        vertical-align: top;\n",
       "    }\n",
       "\n",
       "    .dataframe thead th {\n",
       "        text-align: right;\n",
       "    }\n",
       "</style>\n",
       "<table border=\"1\" class=\"dataframe\">\n",
       "  <thead>\n",
       "    <tr style=\"text-align: right;\">\n",
       "      <th></th>\n",
       "      <th>EmployeeName</th>\n",
       "      <th>JobTitle</th>\n",
       "      <th>BasePay</th>\n",
       "      <th>OvertimePay</th>\n",
       "      <th>OtherPay</th>\n",
       "      <th>Benefits</th>\n",
       "      <th>TotalPay</th>\n",
       "      <th>TotalPayBenefits</th>\n",
       "      <th>Year</th>\n",
       "    </tr>\n",
       "  </thead>\n",
       "  <tbody>\n",
       "    <tr>\n",
       "      <th>0</th>\n",
       "      <td>NATHANIEL FORD</td>\n",
       "      <td>GENERAL MANAGER-METROPOLITAN TRANSIT AUTHORITY</td>\n",
       "      <td>167411.18</td>\n",
       "      <td>0.0</td>\n",
       "      <td>400184.25</td>\n",
       "      <td>Not Provided</td>\n",
       "      <td>567595.43</td>\n",
       "      <td>567595.43</td>\n",
       "      <td>2011</td>\n",
       "    </tr>\n",
       "    <tr>\n",
       "      <th>1</th>\n",
       "      <td>GARY JIMENEZ</td>\n",
       "      <td>CAPTAIN III (POLICE DEPARTMENT)</td>\n",
       "      <td>155966.02</td>\n",
       "      <td>245131.88</td>\n",
       "      <td>137811.38</td>\n",
       "      <td>Not Provided</td>\n",
       "      <td>538909.28</td>\n",
       "      <td>538909.28</td>\n",
       "      <td>2011</td>\n",
       "    </tr>\n",
       "    <tr>\n",
       "      <th>2</th>\n",
       "      <td>ALBERT PARDINI</td>\n",
       "      <td>CAPTAIN III (POLICE DEPARTMENT)</td>\n",
       "      <td>212739.13</td>\n",
       "      <td>106088.18</td>\n",
       "      <td>16452.6</td>\n",
       "      <td>Not Provided</td>\n",
       "      <td>335279.91</td>\n",
       "      <td>335279.91</td>\n",
       "      <td>2011</td>\n",
       "    </tr>\n",
       "    <tr>\n",
       "      <th>3</th>\n",
       "      <td>CHRISTOPHER CHONG</td>\n",
       "      <td>WIRE ROPE CABLE MAINTENANCE MECHANIC</td>\n",
       "      <td>77916.0</td>\n",
       "      <td>56120.71</td>\n",
       "      <td>198306.9</td>\n",
       "      <td>Not Provided</td>\n",
       "      <td>332343.61</td>\n",
       "      <td>332343.61</td>\n",
       "      <td>2011</td>\n",
       "    </tr>\n",
       "    <tr>\n",
       "      <th>4</th>\n",
       "      <td>PATRICK GARDNER</td>\n",
       "      <td>DEPUTY CHIEF OF DEPARTMENT,(FIRE DEPARTMENT)</td>\n",
       "      <td>134401.6</td>\n",
       "      <td>9737.0</td>\n",
       "      <td>182234.59</td>\n",
       "      <td>Not Provided</td>\n",
       "      <td>326373.19</td>\n",
       "      <td>326373.19</td>\n",
       "      <td>2011</td>\n",
       "    </tr>\n",
       "  </tbody>\n",
       "</table>\n",
       "</div>"
      ],
      "text/plain": [
       "        EmployeeName                                        JobTitle  \\\n",
       "0     NATHANIEL FORD  GENERAL MANAGER-METROPOLITAN TRANSIT AUTHORITY   \n",
       "1       GARY JIMENEZ                 CAPTAIN III (POLICE DEPARTMENT)   \n",
       "2     ALBERT PARDINI                 CAPTAIN III (POLICE DEPARTMENT)   \n",
       "3  CHRISTOPHER CHONG            WIRE ROPE CABLE MAINTENANCE MECHANIC   \n",
       "4    PATRICK GARDNER    DEPUTY CHIEF OF DEPARTMENT,(FIRE DEPARTMENT)   \n",
       "\n",
       "     BasePay OvertimePay   OtherPay      Benefits   TotalPay  \\\n",
       "0  167411.18         0.0  400184.25  Not Provided  567595.43   \n",
       "1  155966.02   245131.88  137811.38  Not Provided  538909.28   \n",
       "2  212739.13   106088.18    16452.6  Not Provided  335279.91   \n",
       "3    77916.0    56120.71   198306.9  Not Provided  332343.61   \n",
       "4   134401.6      9737.0  182234.59  Not Provided  326373.19   \n",
       "\n",
       "   TotalPayBenefits  Year  \n",
       "0         567595.43  2011  \n",
       "1         538909.28  2011  \n",
       "2         335279.91  2011  \n",
       "3         332343.61  2011  \n",
       "4         326373.19  2011  "
      ]
     },
     "execution_count": 8,
     "metadata": {},
     "output_type": "execute_result"
    }
   ],
   "source": [
    "import pandas as pd\n",
    "\n",
    "# Load the file with data in case file type is CSV.\n",
    "data = pd.read_csv(r'G:\\My Drive\\PERSONAL\\My stuff\\NXU\\Python and R\\Total.csv')\n",
    "\n",
    "# The first few rows of the dataset are displayed\n",
    "data.head()\n"
   ]
  },
  {
   "cell_type": "code",
   "execution_count": 9,
   "metadata": {},
   "outputs": [
    {
     "name": "stdout",
     "output_type": "stream",
     "text": [
      "{'EmployeeName': 'GARY JIMENEZ', 'JobTitle': 'CAPTAIN III (POLICE DEPARTMENT)', 'BasePay': 155966.02, 'OvertimePay': 245131.88, 'OtherPay': 137811.38, 'Benefits': 'Not Provided', 'TotalPay': 538909.28, 'TotalPayBenefits': 538909.28, 'Year': 2011}\n"
     ]
    }
   ],
   "source": [
    "# CREATING A FUNCTION\n",
    "def get_employee_details(employee_name):\n",
    "    try:\n",
    "        # Use EemployeeName to filter the data\n",
    "        employee = data[data['EmployeeName'] == employee_name]\n",
    "        \n",
    "        # Validate the existence of an employee\n",
    "        if not employee.empty:\n",
    "            return employee.to_dict('records')[0]  # Employees details returned as dictionary\n",
    "        else:\n",
    "            raise ValueError(\"Employee not found\")\n",
    "    except Exception as e:\n",
    "        print(f\"Error: {e}\")\n",
    "\n",
    "# Function call using the name of employee\n",
    "print(get_employee_details(\"GARY JIMENEZ\"))\n"
   ]
  },
  {
   "cell_type": "code",
   "execution_count": 10,
   "metadata": {},
   "outputs": [
    {
     "name": "stdout",
     "output_type": "stream",
     "text": [
      "{'EmployeeName': 'NATHANIEL FORD', 'JobTitle': 'GENERAL MANAGER-METROPOLITAN TRANSIT AUTHORITY', 'BasePay': 167411.18, 'OvertimePay': 0.0, 'OtherPay': 400184.25, 'Benefits': 'Not Provided', 'TotalPay': 567595.43, 'TotalPayBenefits': 567595.43, 'Year': 2011}\n",
      "{'EmployeeName': 'GARY JIMENEZ', 'JobTitle': 'CAPTAIN III (POLICE DEPARTMENT)', 'BasePay': 155966.02, 'OvertimePay': 245131.88, 'OtherPay': 137811.38, 'Benefits': 'Not Provided', 'TotalPay': 538909.28, 'TotalPayBenefits': 538909.28, 'Year': 2011}\n"
     ]
    }
   ],
   "source": [
    "# (Data processing with Dictionary) DataFrame to a dictionary\n",
    "data_dict = data.to_dict('index')\n",
    "\n",
    "# Access details of the first and second employee\n",
    "first_employee = data_dict[0]\n",
    "print(first_employee)\n",
    "\n",
    "second_employee = data_dict[1]\n",
    "print(second_employee)\n"
   ]
  },
  {
   "cell_type": "code",
   "execution_count": 11,
   "metadata": {},
   "outputs": [
    {
     "name": "stderr",
     "output_type": "stream",
     "text": [
      "C:\\Users\\YD\\AppData\\Local\\Temp\\ipykernel_12096\\1915356010.py:5: DtypeWarning: Columns (2,3,4,5) have mixed types. Specify dtype option on import or set low_memory=False.\n",
      "  data = pd.read_csv(r'G:\\My Drive\\PERSONAL\\My stuff\\NXU\\Python and R\\Total.csv')\n"
     ]
    },
    {
     "name": "stdout",
     "output_type": "stream",
     "text": [
      "Employee details found:\n",
      "{'EmployeeName': 'NATHANIEL FORD', 'JobTitle': 'GENERAL MANAGER-METROPOLITAN TRANSIT AUTHORITY', 'BasePay': 167411.18, 'OvertimePay': 0.0, 'OtherPay': 400184.25, 'Benefits': 'Not Provided', 'TotalPay': 567595.43, 'TotalPayBenefits': 567595.43, 'Year': 2011}\n",
      "Employee 'Bright Ford' not found.\n"
     ]
    }
   ],
   "source": [
    "# ERROR HANDLING\n",
    "import pandas as pd \n",
    "\n",
    "# Load the CSV data\n",
    "data = pd.read_csv(r'G:\\My Drive\\PERSONAL\\My stuff\\NXU\\Python and R\\Total.csv')\n",
    "\n",
    "def get_employee_details(employee_name):\n",
    "    try:\n",
    "        # Normalize the input name (strip spaces and make lowercase)\n",
    "        employee_name_normalized = employee_name.strip().lower()\n",
    "        \n",
    "        # Normalize the 'EmployeeName' column in the DataFrame for comparison\n",
    "        data['EmployeeName_normalized'] = data['EmployeeName'].str.strip().str.lower()\n",
    "        \n",
    "        # Filter the data based on the normalized employee name\n",
    "        employee = data[data['EmployeeName_normalized'] == employee_name_normalized]\n",
    "        \n",
    "        # Check if the employee exists\n",
    "        if not employee.empty:\n",
    "            print(\"Employee details found:\")\n",
    "            return employee.drop(columns=['EmployeeName_normalized']).to_dict('records')[0]\n",
    "        else:\n",
    "            # Raise a ValueError if the employee is not found\n",
    "            raise ValueError(f\"Employee '{employee_name}' not found.\")\n",
    "    \n",
    "    except ValueError as ve:\n",
    "        # Handle the case where the employee does not exist\n",
    "        print(ve)\n",
    "    except Exception as e:\n",
    "        # Handle any other unexpected errors\n",
    "        print(f\"An unexpected error occurred: {e}\")\n",
    "\n",
    "# FIRST-Test with an existing employee name \n",
    "existing_employee_name = \"Nathaniel Ford\"\n",
    "employee_details = get_employee_details(\"Nathaniel Ford\")\n",
    "\n",
    "# Display the details if they are found\n",
    "if employee_details:\n",
    "    print(employee_details)\n",
    "\n",
    "# SECOND-Test with an non existing employee name \n",
    "existing_employee_name = \"Bright Ford\"\n",
    "employee_details = get_employee_details(\"Bright Ford\")\n",
    "# Display the details not found\n",
    "if employee_details:\n",
    "    print(employee_details)\n"
   ]
  },
  {
   "cell_type": "code",
   "execution_count": 12,
   "metadata": {},
   "outputs": [
    {
     "name": "stdout",
     "output_type": "stream",
     "text": [
      "Employee details found:\n",
      "Employee details exported and zipped as 'Employee_Profile.zip'\n"
     ]
    }
   ],
   "source": [
    "import zipfile\n",
    "import os\n",
    "\n",
    "def export_employee_details(employee_name):\n",
    "    try:\n",
    "        employee_details = get_employee_details(employee_name)\n",
    "        if employee_details:\n",
    "            # Convert details to DataFrame for exporting\n",
    "            employee_df = pd.DataFrame([employee_details])\n",
    "            \n",
    "            # Define file paths\n",
    "            export_path = f\"{employee_name}_details.csv\"\n",
    "            zip_path = \"Employee_Profile.zip\"\n",
    "            \n",
    "            # Save the details as a CSV file\n",
    "            employee_df.to_csv(export_path, index=False)\n",
    "            \n",
    "            # Zip the file\n",
    "            with zipfile.ZipFile(zip_path, 'w') as zipf:\n",
    "                zipf.write(export_path)\n",
    "            \n",
    "            # Remove the CSV file after zipping\n",
    "            os.remove(export_path)\n",
    "            \n",
    "            print(f\"Employee details exported and zipped as '{zip_path}'\")\n",
    "    except Exception as e:\n",
    "        print(f\"Error: {e}\")\n",
    "\n",
    "# Using Garry as example\n",
    "export_employee_details(\"Gary Jimenez\")\n"
   ]
  }
 ],
 "metadata": {
  "language_info": {
   "name": "python"
  }
 },
 "nbformat": 4,
 "nbformat_minor": 2
}
